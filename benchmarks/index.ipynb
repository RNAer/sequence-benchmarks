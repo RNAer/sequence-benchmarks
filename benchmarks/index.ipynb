{
 "cells": [
  {
   "cell_type": "code",
   "execution_count": 3,
   "metadata": {
    "collapsed": false
   },
   "outputs": [
    {
     "name": "stdout",
     "output_type": "stream",
     "text": [
      "10000000 loops, best of 3: 86.2 ns per loop\n",
      "10000000 loops, best of 3: 88.9 ns per loop\n",
      "The slowest run took 13.38 times longer than the fastest. This could mean that an intermediate result is being cached \n",
      "10000000 loops, best of 3: 89.1 ns per loop\n"
     ]
    }
   ],
   "source": [
    "import pandas as pd\n",
    "\n",
    "%run 'biopython-py2.ipynb'\n",
    "%run 'skbio-master-py2.ipynb'\n",
    "%run 'pycogent-py2.ipynb'"
   ]
  },
  {
   "cell_type": "code",
   "execution_count": 5,
   "metadata": {
    "collapsed": false
   },
   "outputs": [
    {
     "data": {
      "text/html": [
       "<div style=\"max-height:1000px;max-width:1500px;overflow:auto;\">\n",
       "<table border=\"1\" class=\"dataframe\">\n",
       "  <thead>\n",
       "    <tr style=\"text-align: right;\">\n",
       "      <th></th>\n",
       "      <th>scikit-bio master</th>\n",
       "      <th>pycogent</th>\n",
       "      <th>biopython</th>\n",
       "    </tr>\n",
       "  </thead>\n",
       "  <tbody>\n",
       "    <tr>\n",
       "      <th>object_creation</th>\n",
       "      <td> 8.888052e-08</td>\n",
       "      <td> 8.909881e-08</td>\n",
       "      <td> 8.615050e-08</td>\n",
       "    </tr>\n",
       "  </tbody>\n",
       "</table>\n",
       "</div>"
      ],
      "text/plain": [
       "                 scikit-bio master      pycogent     biopython\n",
       "object_creation       8.888052e-08  8.909881e-08  8.615050e-08"
      ]
     },
     "execution_count": 5,
     "metadata": {},
     "output_type": "execute_result"
    }
   ],
   "source": [
    "pd.concat([skbio_benchmark.as_series(), cogent_benchmark.as_series(), biopython_benchmark.as_series()], axis=1)"
   ]
  }
 ],
 "metadata": {
  "kernelspec": {
   "display_name": "Python 2",
   "language": "python",
   "name": "python2"
  },
  "language_info": {
   "codemirror_mode": {
    "name": "ipython",
    "version": 2
   },
   "file_extension": ".py",
   "mimetype": "text/x-python",
   "name": "python",
   "nbconvert_exporter": "python",
   "pygments_lexer": "ipython2",
   "version": "2.7.6"
  }
 },
 "nbformat": 4,
 "nbformat_minor": 0
}
