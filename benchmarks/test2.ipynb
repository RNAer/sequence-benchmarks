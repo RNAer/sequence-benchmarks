{
 "cells": [
  {
   "cell_type": "code",
   "execution_count": 1,
   "metadata": {
    "collapsed": false
   },
   "outputs": [],
   "source": [
    "from benchmark import Benchmark\n",
    "other = Benchmark(\"other\")"
   ]
  },
  {
   "cell_type": "code",
   "execution_count": 2,
   "metadata": {
    "collapsed": false
   },
   "outputs": [
    {
     "name": "stdout",
     "output_type": "stream",
     "text": [
      "10000 loops, best of 3: 23.7 µs per loop\n"
     ]
    }
   ],
   "source": [
    "@other\n",
    "def some_benchmark():\n",
    "    def naive_fib(a):\n",
    "        if a == 0:\n",
    "            return 1\n",
    "        if a == 1:\n",
    "            return 1\n",
    "        return naive_fib(a-1) + naive_fib(a-2)\n",
    "    \n",
    "    naive_fib(10)\n"
   ]
  }
 ],
 "metadata": {
  "kernelspec": {
   "display_name": "Python 2",
   "language": "python",
   "name": "python2"
  },
  "language_info": {
   "codemirror_mode": {
    "name": "ipython",
    "version": 2
   },
   "file_extension": ".py",
   "mimetype": "text/x-python",
   "name": "python",
   "nbconvert_exporter": "python",
   "pygments_lexer": "ipython2",
   "version": "2.7.6"
  }
 },
 "nbformat": 4,
 "nbformat_minor": 0
}
